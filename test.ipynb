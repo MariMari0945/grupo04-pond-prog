{
 "cells": [
  {
   "cell_type": "markdown",
   "metadata": {},
   "source": [
    "### Inicialização do arquivo."
   ]
  },
  {
   "cell_type": "code",
   "execution_count": null,
   "metadata": {},
   "outputs": [
    {
     "name": "stdout",
     "output_type": "stream",
     "text": [
      "IV: FW1L6EjzLHoayVCh4PZqJQ==\n",
      "Ciphertext: 7jic+YhDmrOaCrOhlYCAmFV3xU1qw+TLsed9ZxjC6iI=\n"
     ]
    }
   ],
   "source": [
    "import os\n",
    "import base64\n",
    "from Crypto.Cipher import AES  # Biblioteca correta para AES no PyCryptodome\n",
    "from Crypto.Util.Padding import pad  # Função para aplicar padding\n",
    "\n",
    "def aes256_encrypt(key: bytes, plaintext: str) -> tuple:\n",
    "    \"\"\"\n",
    "    Criptografa uma string utilizando AES-256 no modo CBC.\n",
    "\n",
    "    Parâmetros:\n",
    "    - key: Chave de 32 bytes usada para criptografia.\n",
    "    - plaintext: Texto a ser criptografado.\n",
    "\n",
    "    Retorna:\n",
    "    - IV: Vetor de inicialização (base64, 16 bytes).\n",
    "    - Ciphertext: Texto criptografado (base64).\n",
    "    \"\"\"\n",
    "    # Garante que a chave tenha exatamente 32 bytes (256 bits)\n",
    "    if len(key) != 32:\n",
    "        raise ValueError(\"A chave deve ter 32 bytes (256 bits).\")\n",
    "\n",
    "    # Gera um IV aleatório de 16 bytes (128 bits)\n",
    "    iv = os.urandom(16)\n",
    "\n",
    "    # Aplica padding PKCS7 ao texto para garantir múltiplo de 16 bytes\n",
    "    padded_plaintext = pad(plaintext.encode(), AES.block_size)\n",
    "\n",
    "    # Configura o cipher AES-256 no modo CBC\n",
    "    cipher = AES.new(key, AES.MODE_CBC, iv)\n",
    "\n",
    "    # Criptografa o texto\n",
    "    ciphertext = cipher.encrypt(padded_plaintext)\n",
    "\n",
    "    # Retorna IV e ciphertext codificados em base64 (para facilitar armazenamento/transmissão)\n",
    "    return base64.b64encode(iv).decode(), base64.b64encode(ciphertext).decode()\n",
    "\n",
    "# Teste da função\n",
    "key = os.urandom(32)  # Gera uma chave de 32 bytes\n",
    "iv, ciphertext = aes256_encrypt(key, \"Dvd bonitão\")\n",
    "print(f\"IV: {iv}\")\n",
    "print(f\"Ciphertext: {ciphertext}\")\n"
   ]
  }
 ],
 "metadata": {
  "kernelspec": {
   "display_name": "Python 3",
   "language": "python",
   "name": "python3"
  },
  "language_info": {
   "codemirror_mode": {
    "name": "ipython",
    "version": 3
   },
   "file_extension": ".py",
   "mimetype": "text/x-python",
   "name": "python",
   "nbconvert_exporter": "python",
   "pygments_lexer": "ipython3",
   "version": "3.12.4"
  }
 },
 "nbformat": 4,
 "nbformat_minor": 2
}
