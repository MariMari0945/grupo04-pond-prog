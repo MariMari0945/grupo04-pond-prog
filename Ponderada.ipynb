{
 "cells": [
  {
   "cell_type": "markdown",
   "metadata": {},
   "source": [
    "### Inicialização do arquivo."
   ]
  },
  {
   "cell_type": "code",
   "execution_count": null,
   "metadata": {},
   "outputs": [],
   "source": []
  },
  {
   "cell_type": "markdown",
   "metadata": {},
   "source": [
    "## Função de Hash (SHA-256)"
   ]
  },
  {
   "cell_type": "code",
   "execution_count": null,
   "metadata": {},
   "outputs": [],
   "source": [
    "import hashlib\n",
    "\n",
    "def sha256_hash(text: str) -> str:\n",
    "    \"\"\"\n",
    "    Converte a string 'text' em seu hash SHA-256 em formato hexadecimal.\n",
    "    \n",
    "    Args:\n",
    "        text (str): A string de entrada a ser convertida.\n",
    "        \n",
    "    Returns:\n",
    "        str: O hash SHA-256 da string em formato hexadecimal.\n",
    "    \"\"\"\n",
    "    # Codifica a string em bytes utilizando UTF-8\n",
    "    encoded_text = text.encode('utf-8')\n",
    "    # Cria o objeto de hash SHA-256 e gera o hash da string codificada\n",
    "    hash_object = hashlib.sha256(encoded_text)\n",
    "    # Retorna o hash em formato hexadecimal\n",
    "    return hash_object.hexdigest()"
   ]
  }
 ],
 "metadata": {
  "kernelspec": {
   "display_name": "Python 3",
   "language": "python",
   "name": "python3"
  },
  "language_info": {
   "name": "python",
   "version": "3.11.0"
  }
 },
 "nbformat": 4,
 "nbformat_minor": 2
}
