{
 "cells": [
  {
   "cell_type": "markdown",
   "metadata": {},
   "source": [
    "## Função Hash SHA-256"
   ]
  },
  {
   "cell_type": "code",
   "execution_count": null,
   "metadata": {},
   "outputs": [],
   "source": [
    "import hashlib\n",
    "\n",
    "def sha256_hash(text):\n",
    "    \"\"\"\n",
    "    Converte uma string em seu hash SHA-256.\n",
    "    \n",
    "    Args:\n",
    "        text (str): A string a ser convertida para hash.\n",
    "        \n",
    "    Returns:\n",
    "        str: O hash SHA-256 da string de entrada em formato hexadecimal.\n",
    "        \n",
    "    Examples:\n",
    "        >>> sha256_hash('hello')\n",
    "        '2cf24dba5fb0a30e26e83b2ac5b9e29e1b161e5c1fa7425e73043362938b9824'\n",
    "    \"\"\"\n",
    "    # Verifica se o texto de entrada é uma string\n",
    "    if not isinstance(text, str):\n",
    "        try:\n",
    "            # Tenta converter para string se não for\n",
    "            text = str(text)\n",
    "        except:\n",
    "            raise TypeError(\"O parâmetro de entrada deve ser uma string ou conversível para string\")\n",
    "    \n",
    "    # Converte a string para bytes usando codificação UTF-8\n",
    "    text_bytes = text.encode('utf-8')\n",
    "    \n",
    "    # Cria um objeto hash SHA-256\n",
    "    hash_object = hashlib.sha256(text_bytes)\n",
    "    \n",
    "    # Obtém o valor do hash em formato hexadecimal\n",
    "    hex_digest = hash_object.hexdigest()\n",
    "    \n",
    "    return hex_digest"
   ]
  }
 ],
 "metadata": {
  "kernelspec": {
   "display_name": "Python 3",
   "language": "python",
   "name": "python3"
  },
  "language_info": {
   "codemirror_mode": {
    "name": "ipython",
    "version": 3
   },
   "file_extension": ".py",
   "mimetype": "text/x-python",
   "name": "python",
   "nbconvert_exporter": "python",
   "pygments_lexer": "ipython3",
   "version": "3.12.7"
  }
 },
 "nbformat": 4,
 "nbformat_minor": 2
}
